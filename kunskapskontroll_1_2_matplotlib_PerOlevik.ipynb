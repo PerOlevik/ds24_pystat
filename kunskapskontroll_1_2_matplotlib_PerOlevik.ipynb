{
 "cells": [
  {
   "cell_type": "markdown",
   "id": "eb49a753",
   "metadata": {},
   "source": [
    "# Matplotlib\n",
    "Read the tutorials: https://matplotlib.org/stable/users/explain/quick_start.html and https://matplotlib.org/stable/tutorials/pyplot.html before solving the exercises below. The \"Pyplot Tutorial\" you do not read in detail but it is good to know about since the fact that there are two approaches to plotting can be confusing if you are not aware of both of the approaches."
   ]
  },
  {
   "cell_type": "code",
   "execution_count": 1,
   "id": "9b1ffb1b",
   "metadata": {},
   "outputs": [],
   "source": [
    "import numpy as np\n",
    "import matplotlib.pyplot as plt"
   ]
  },
  {
   "cell_type": "markdown",
   "id": "35e4f6cd",
   "metadata": {},
   "source": [
    "### Plotting in Matplotlib can be done in either of two ways, which ones? Which way is the recommended approach?"
   ]
  },
  {
   "cell_type": "code",
   "execution_count": null,
   "id": "2db0fb3e",
   "metadata": {},
   "outputs": [],
   "source": [
    "# The two ways are 1) the \"object-oriented (OO) style\" and 2) the pyplot/Matlab style.\n",
    "# Recommended: 1) the \"object-oriented (OO) style\"."
   ]
  },
  {
   "cell_type": "markdown",
   "id": "00d119a1",
   "metadata": {},
   "source": [
    "### Explain shortly what a figure, axes, axis and an artist is in Matplotlib."
   ]
  },
  {
   "cell_type": "code",
   "execution_count": null,
   "id": "9b9fa05a",
   "metadata": {},
   "outputs": [],
   "source": [
    "# Figure is the canvas, the whole figure, the empty paper you begin with and put the other components on.\n",
    "\n",
    "# Axes is the main part, the sceleton, of the plot. It is the object/area in which you put the other components. A figure can contain several Axes.\n",
    "\n",
    "# Axis are the objects that indicates certain values and sets the scale. (y and x axis.)\n",
    "\n",
    "# Artist-objects are everything that can be seen, that i visible. All the above are artists."
   ]
  },
  {
   "cell_type": "markdown",
   "id": "986b324c",
   "metadata": {},
   "source": [
    "### When plotting in Matplotlib, what is the expected input data type?"
   ]
  },
  {
   "cell_type": "code",
   "execution_count": null,
   "id": "79a18b02",
   "metadata": {},
   "outputs": [],
   "source": [
    "# Numpy arrays, numpy masked arrays or objects that can be transformed through numpy.asarray."
   ]
  },
  {
   "cell_type": "markdown",
   "id": "8ff546a1",
   "metadata": {},
   "source": [
    "### Create a plot of the function y = x^2 [from -4 to 4, hint use the np.linspace function] both in the object-oriented approach and the pyplot approach. Your plot should have a title and axis-labels."
   ]
  },
  {
   "cell_type": "code",
   "execution_count": null,
   "id": "738b8a75",
   "metadata": {},
   "outputs": [],
   "source": [
    "# OO-approach\n",
    "\n",
    "x = np.linspace(-4, 4, 32)\n",
    "\n",
    "fig, ax = plt.subplots()\n",
    "\n",
    "ax.plot(x, x**2, label='quadratic')\n",
    "\n",
    "ax.set_xlabel('x label')  \n",
    "ax.set_ylabel('y label')  \n",
    "ax.set_title(\"x squared\")  \n",
    "ax.legend()  "
   ]
  },
  {
   "cell_type": "code",
   "execution_count": null,
   "id": "bd9ae342",
   "metadata": {},
   "outputs": [],
   "source": [
    "# pyplot-approach\n",
    "\n",
    "x = np.linspace(-4, 4, 32)\n",
    "\n",
    "plt.figure()\n",
    "\n",
    "plt.plot(x, x**2, label='quadratic')\n",
    "\n",
    "plt.xlabel('x label')\n",
    "plt.ylabel('y label')\n",
    "plt.title(\"x squared\")\n",
    "plt.legend()"
   ]
  },
  {
   "cell_type": "markdown",
   "id": "f6313412",
   "metadata": {},
   "source": [
    "### Create a figure containing 2  subplots where the first is a scatter plot and the second is a bar plot. You have the data below. "
   ]
  },
  {
   "cell_type": "code",
   "execution_count": 7,
   "id": "81b6723d",
   "metadata": {},
   "outputs": [],
   "source": [
    "# Data for scatter plot\n",
    "np.random.seed(15)\n",
    "random_data_x = np.random.randn(1000)\n",
    "random_data_y = np.random.randn(1000)\n",
    "x = np.linspace(-2, 2, 100)\n",
    "y = x**2\n",
    "\n",
    "# Data for bar plot\n",
    "fruit_data = {'grapes': 22, 'apple': 8, 'orange': 15, 'lemon': 20, 'lime': 25}\n",
    "names = list(fruit_data.keys())\n",
    "values = list(fruit_data.values())"
   ]
  },
  {
   "cell_type": "code",
   "execution_count": null,
   "id": "b84f15d0",
   "metadata": {},
   "outputs": [],
   "source": [
    "f, (ax1, ax2) =  plt.subplots(1, 2, figsize=(12, 6))\n",
    "\n",
    "ax1.scatter(x, y)\n",
    "ax1.set_title(\"Scatter\")  \n",
    "\n",
    "ax2.bar(names, values)\n",
    "ax2.set_title(\"Bar\")  \n",
    "ax2.tick_params(axis='x', rotation=45)"
   ]
  }
 ],
 "metadata": {
  "kernelspec": {
   "display_name": "base",
   "language": "python",
   "name": "python3"
  },
  "language_info": {
   "codemirror_mode": {
    "name": "ipython",
    "version": 3
   },
   "file_extension": ".py",
   "mimetype": "text/x-python",
   "name": "python",
   "nbconvert_exporter": "python",
   "pygments_lexer": "ipython3",
   "version": "3.12.4"
  }
 },
 "nbformat": 4,
 "nbformat_minor": 5
}
