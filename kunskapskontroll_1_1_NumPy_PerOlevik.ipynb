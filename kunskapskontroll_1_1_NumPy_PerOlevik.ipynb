{
 "cells": [
  {
   "cell_type": "markdown",
   "id": "dacf74e6",
   "metadata": {},
   "source": [
    "# NumPy"
   ]
  },
  {
   "cell_type": "markdown",
   "id": "01b2bf34",
   "metadata": {},
   "source": [
    "Read the links: https://numpy.org/doc/stable/user/quickstart.html  and https://numpy.org/doc/stable/user/basics.broadcasting.html  before solving the exercises. "
   ]
  },
  {
   "cell_type": "code",
   "execution_count": 2,
   "id": "1f79e4a6",
   "metadata": {},
   "outputs": [],
   "source": [
    "import numpy as np"
   ]
  },
  {
   "cell_type": "markdown",
   "id": "7dae6889",
   "metadata": {},
   "source": [
    "### Print out the dimension (number of axes), shape, size and the datatype of the matrix A."
   ]
  },
  {
   "cell_type": "code",
   "execution_count": 11,
   "id": "7b3678cd",
   "metadata": {},
   "outputs": [],
   "source": [
    "A = np.arange(1, 16).reshape(3,5)"
   ]
  },
  {
   "cell_type": "code",
   "execution_count": null,
   "id": "31d39235",
   "metadata": {},
   "outputs": [],
   "source": [
    "print(A.ndim)       # number of axes\n",
    "print(A.shape)      # shape\n",
    "print(A.size)       # size\n",
    "print(A.dtype)      # datatype"
   ]
  },
  {
   "cell_type": "markdown",
   "id": "e56d2a96",
   "metadata": {},
   "source": [
    "### Do the following computations on the matrices B and C: \n",
    "* Elementwise subtraction. \n",
    "* Elementwise multiplication. \n",
    "* Matrix multiplication (by default you should use the @ operator)."
   ]
  },
  {
   "cell_type": "code",
   "execution_count": null,
   "id": "a7053fbb",
   "metadata": {},
   "outputs": [],
   "source": [
    "B = np.arange(1, 10).reshape(3, 3)\n",
    "C = np.ones((3, 3))*2\n",
    "\n",
    "print(B)\n",
    "print()\n",
    "print(C)"
   ]
  },
  {
   "cell_type": "code",
   "execution_count": null,
   "id": "3cd794ae",
   "metadata": {},
   "outputs": [],
   "source": [
    "B-C"
   ]
  },
  {
   "cell_type": "code",
   "execution_count": null,
   "id": "81838702",
   "metadata": {},
   "outputs": [],
   "source": [
    "B*C"
   ]
  },
  {
   "cell_type": "code",
   "execution_count": null,
   "id": "2802006a",
   "metadata": {},
   "outputs": [],
   "source": [
    "B@C"
   ]
  },
  {
   "cell_type": "markdown",
   "id": "96030d53",
   "metadata": {},
   "source": [
    "### Do the following calculations on the matrix:\n",
    "* Exponentiate each number elementwise (use the np.exp function).\n",
    "\n",
    "* Calculate the minimum value in the whole matrix. \n",
    "* Calculcate the minimum value in each row. \n",
    "* Calculcate the minimum value in each column. \n",
    "\n",
    "\n",
    "* Find the index value for the minimum value in the whole matrix (hint: use np.argmin).\n",
    "* Find the index value for the minimum value in each row (hint: use np.argmin).\n",
    "\n",
    "\n",
    "* Calculate the sum for all elements.\n",
    "* Calculate the mean for each column. \n",
    "* Calculate the median for each column. "
   ]
  },
  {
   "cell_type": "code",
   "execution_count": null,
   "id": "f8a9166b",
   "metadata": {},
   "outputs": [],
   "source": [
    "B = np.arange(1, 10).reshape(3, 3)\n",
    "print(B)"
   ]
  },
  {
   "cell_type": "code",
   "execution_count": null,
   "id": "f03f24f7",
   "metadata": {},
   "outputs": [],
   "source": [
    "np.exp(B)"
   ]
  },
  {
   "cell_type": "code",
   "execution_count": null,
   "id": "df572e6d",
   "metadata": {},
   "outputs": [],
   "source": [
    "np.min(B)"
   ]
  },
  {
   "cell_type": "code",
   "execution_count": null,
   "id": "739467d2",
   "metadata": {},
   "outputs": [],
   "source": [
    "np.min(B, axis=1)"
   ]
  },
  {
   "cell_type": "code",
   "execution_count": null,
   "id": "875e3303",
   "metadata": {},
   "outputs": [],
   "source": [
    "np.min(B, axis=0)"
   ]
  },
  {
   "cell_type": "code",
   "execution_count": null,
   "id": "e41de5b0",
   "metadata": {},
   "outputs": [],
   "source": [
    "np.argmin(B)"
   ]
  },
  {
   "cell_type": "code",
   "execution_count": null,
   "id": "98c01eb0",
   "metadata": {},
   "outputs": [],
   "source": [
    "np.argmin(B, axis=1)"
   ]
  },
  {
   "cell_type": "code",
   "execution_count": null,
   "id": "a8f5e36d",
   "metadata": {},
   "outputs": [],
   "source": [
    "np.sum(B)"
   ]
  },
  {
   "cell_type": "code",
   "execution_count": null,
   "id": "5c885de7",
   "metadata": {},
   "outputs": [],
   "source": [
    "np.mean(B, axis=0)"
   ]
  },
  {
   "cell_type": "code",
   "execution_count": null,
   "id": "9e3ae7ad",
   "metadata": {},
   "outputs": [],
   "source": [
    "np.median(B, axis=0)"
   ]
  },
  {
   "cell_type": "markdown",
   "id": "541eb7ba",
   "metadata": {},
   "source": [
    "### What does it mean when you provide fewer indices than axes when slicing? See example below."
   ]
  },
  {
   "cell_type": "code",
   "execution_count": null,
   "id": "9c8abf56",
   "metadata": {},
   "outputs": [],
   "source": [
    "print(A)"
   ]
  },
  {
   "cell_type": "code",
   "execution_count": null,
   "id": "69415f7b",
   "metadata": {},
   "outputs": [],
   "source": [
    "A[1]"
   ]
  },
  {
   "cell_type": "markdown",
   "id": "6c53541b",
   "metadata": {},
   "source": [
    "**Answer:**"
   ]
  },
  {
   "cell_type": "code",
   "execution_count": null,
   "id": "de01e120",
   "metadata": {},
   "outputs": [],
   "source": [
    "# Numpy includes all indices for the not specified axis. \n",
    "# In this example the second row is specified, nothing more. \n",
    "# The slice includes alla columns on the second row.\n"
   ]
  },
  {
   "cell_type": "markdown",
   "id": "6652d0c9",
   "metadata": {},
   "source": [
    "### Iterating over multidimensional arrays is done with respect to the first axis, so in the example below we iterate trough the rows. If you would like to iterate through the array *elementwise*, how would you do that?"
   ]
  },
  {
   "cell_type": "code",
   "execution_count": null,
   "id": "9459864f",
   "metadata": {},
   "outputs": [],
   "source": [
    "A"
   ]
  },
  {
   "cell_type": "code",
   "execution_count": null,
   "id": "a671bb5a",
   "metadata": {},
   "outputs": [],
   "source": [
    "for i in A:\n",
    "    print(i)"
   ]
  },
  {
   "cell_type": "code",
   "execution_count": null,
   "id": "f4e443a0",
   "metadata": {},
   "outputs": [],
   "source": [
    "for j in A.flat:\n",
    "    print(j)"
   ]
  },
  {
   "cell_type": "markdown",
   "id": "608a2583",
   "metadata": {},
   "source": [
    "### Explain what the code below does. More specifically, b has three axes - what does this mean? "
   ]
  },
  {
   "cell_type": "code",
   "execution_count": null,
   "id": "f8f9b26f",
   "metadata": {},
   "outputs": [],
   "source": [
    "a = np.arange(30)\n",
    "b = a.reshape((2, 3, -1))\n",
    "print(a)\n",
    "print()\n",
    "\n",
    "print(b)"
   ]
  },
  {
   "cell_type": "code",
   "execution_count": 49,
   "id": "863a45df",
   "metadata": {},
   "outputs": [],
   "source": [
    "# first row creates a (1*30) vector \"a\" containing numbers 0-29.\n",
    "# second row creates \"b\" which is a reshape of \"a\" to a 3D array with 1th dimension (number of vertical matrices)= 2, \n",
    "# 2nd dimension (rows) = 3 and as many columns (3d dimension) as needed (specified by the \"-1\"). \n",
    "# In this case the amount of columns needed is 5.\n",
    "\n",
    "# B has 3 dimensions. The 3d dimension is presented by a second matrix below the first."
   ]
  },
  {
   "cell_type": "markdown",
   "id": "ab5933d5",
   "metadata": {},
   "source": [
    "### Broadcasting\n",
    "**Read the following link about broadcasting: https://numpy.org/doc/stable/user/basics.broadcasting.html#basics-broadcasting**"
   ]
  },
  {
   "cell_type": "markdown",
   "id": "039805ba",
   "metadata": {},
   "source": [
    "# Remark on Broadcasting when doing Linear Algebra calculations in Python. "
   ]
  },
  {
   "cell_type": "markdown",
   "id": "c4bcc147",
   "metadata": {},
   "source": [
    "### From the mathematical rules of matrix addition, the operation below (m1 + m2) does not make sense. The reason is that matrix addition requires two matrices of the same size. In Python however, it works due to broadcasting rules in NumPy. So you must be careful when doing Linear Algebra calculations in Python since they do not follow the \"mathematical rules\". This can however easily be handled by doing some simple programming, for example validating that two matrices have the same shape is easy if you for instance want to add two matrices. "
   ]
  },
  {
   "cell_type": "code",
   "execution_count": null,
   "id": "1fd46778",
   "metadata": {},
   "outputs": [],
   "source": [
    "m1 = np.array([[1, 2], [3, 4]])\n",
    "m2 = np.array([1, 1])\n",
    "print(m1 + m2)"
   ]
  },
  {
   "cell_type": "markdown",
   "id": "047d6576",
   "metadata": {},
   "source": [
    "### The example below would also not be allowed if following the \"mathematical rules\" in Linear Algebra. But it works due to broadcasting in NumPy. "
   ]
  },
  {
   "cell_type": "code",
   "execution_count": null,
   "id": "5e6ef2e4",
   "metadata": {},
   "outputs": [],
   "source": [
    "v1 = np.array([1, 2, 3])\n",
    "print(v1 + 1)"
   ]
  },
  {
   "cell_type": "code",
   "execution_count": null,
   "id": "e2cbae26",
   "metadata": {},
   "outputs": [],
   "source": [
    "A = np.arange(1, 5).reshape(2,2)\n",
    "print(A)\n",
    "\n",
    "b = np.array([2, 2])\n",
    "print(b)"
   ]
  },
  {
   "cell_type": "markdown",
   "id": "722fd5cd",
   "metadata": {},
   "source": [
    "# Vector- and matrix algebra Exercises"
   ]
  },
  {
   "cell_type": "markdown",
   "id": "b63a3081-d976-4d9f-bfd0-a63917e79f7d",
   "metadata": {},
   "source": [
    "**Now you are going to create a function that can be reused every time you add or multiply matrices. The function is created so that we do the addition and multiplication according to the rules of vector- and matrix algebra.**\n",
    "\n",
    "**Create a function \"add_mult_matrices\" that takes two matrices as input arguments (validate that the input are of the type numpy.ndarray by using the isinstance function), a third argument that is either 'add' or 'multiply' that specifies if you want to add or multiply the matrices (validate that the third argument is either 'add' or 'multiply'). When doing matrix addition, validate that the matrices have the same size. When doing matrix multiplication, validate that the sizes conform (i.e. number of columns in the first matrix is equal to the number of rows in the second matrix).**"
   ]
  },
  {
   "cell_type": "code",
   "execution_count": null,
   "id": "3506f977-ac0a-473f-85bc-eec9f35dc498",
   "metadata": {},
   "outputs": [],
   "source": [
    "def add_mult_matrices( a, b, c):\n",
    "    if isinstance(a, np.ndarray) and isinstance(b, np.ndarray):\n",
    "        if c == \"add\": \n",
    "            if a.shape == b.shape:\n",
    "                return (a + b, \n",
    "                        'Horray! A and b are succesfully added!')\n",
    "            else:\n",
    "                return ('matrices a and b do not have the same size and cannot be added')\n",
    "\n",
    "        elif c == \"multiply\":\n",
    "            if a.shape[1] == b.shape[0]:\n",
    "                return (a @ b, \n",
    "                        'Horray! A and b are succesfully multiplied!')\n",
    "            else:\n",
    "                return ('the sizes of a and b do not conform and cannot be multiplied')\n",
    "        else:\n",
    "            return ('Choose either \"add\" or \"multiply\" as third argument')\n",
    "\n",
    "    else:\n",
    "        return  ('a and/or b are/is not ndarrays')  \n",
    "    \n",
    "    \n",
    "a = np.arange(10, 22).reshape(3, 4)  \n",
    "b = np.arange(1, 10).reshape(3, 3)   \n",
    "\n",
    "print(a)\n",
    "\n",
    "print(b)\n",
    "\n",
    "add_mult_matrices(a, b, \"multiply\")"
   ]
  },
  {
   "cell_type": "markdown",
   "id": "8dad82d0-2359-4dff-8f5b-a57d3e34103c",
   "metadata": {},
   "source": [
    "### Solve all the exercises in chapter 10.1 in the book \"Matematik för yrkeshögskolan\". "
   ]
  },
  {
   "cell_type": "code",
   "execution_count": null,
   "id": "89df88af-3668-4d98-a0a4-e6d92eea0f89",
   "metadata": {},
   "outputs": [],
   "source": [
    "# 10.1.1\n",
    "x = np.array ([4, 3]). reshape(1, 2)\n",
    "\n",
    "# a) (antar att ordet \"dimension\" i frågan avser antal rader och kolumner, snarare än antal dimensioner (1D, 2D, 3D, 4D) som fås fram genom .ndim)\n",
    "print(x.shape)\n",
    "\n",
    "# b)\n",
    "print(5*x)\n",
    "\n",
    "# c)\n",
    "print(3*x)\n",
    "\n",
    "# d)\n",
    "print(5*x + 3*x)\n",
    "\n",
    "# e)\n",
    "print(8*x)\n",
    "\n",
    "# f)\n",
    "print(4*x - x)\n",
    "\n",
    "# g) (antar att ordet \"dimension\" i frågan avser antal rader och kolumner, snarare än antal dimensioner (1D, 2D, 3D, 4D) som fås fram genom .ndim)\n",
    "y = x.transpose()\n",
    "print(y)\n",
    "print(y.shape)\n",
    "\n",
    "# h) \n",
    "x.shape == y.shape   # är false, således ej def\n",
    "\n",
    "# i) \n",
    "print (np.sqrt (np.sum(x**2)))\n"
   ]
  },
  {
   "cell_type": "code",
   "execution_count": null,
   "id": "5e64772d",
   "metadata": {},
   "outputs": [],
   "source": [
    "# Uppgift 10.1.2\n",
    "v = np.array ([3, 7, 0, 11]). reshape(4, 1)\n",
    "\n",
    "# a) \n",
    "print(v.shape)\n",
    "\n",
    "# b)\n",
    "print(2*v)\n",
    "\n",
    "# c)\n",
    "print(5*v + 2*v)\n",
    "\n",
    "# d)\n",
    "print(4*v - 2*v)\n",
    "\n",
    "# e) \n",
    "print(v.transpose())\n",
    "print(v.transpose().shape)\n",
    "\n",
    "# f)\n",
    "print (np.sqrt (np.sum(v**2)))\n",
    "\n"
   ]
  },
  {
   "cell_type": "code",
   "execution_count": null,
   "id": "37d7df7a",
   "metadata": {},
   "outputs": [],
   "source": [
    "# Uppgift 10.1.3\n",
    "v1 = np.array ([4, 3, 1, 5]). reshape(1, 4)\n",
    "v2 = np.array ([2, 3, 1, 1]). reshape(1, 4)\n",
    "\n",
    "# uppgift a)\n",
    "print (np.sqrt (np.sum(v1**2)))\n",
    "\n",
    "# uppgift b)\n",
    "\n",
    "print (np.sqrt (np.sum((v1-v2)**2)))\n"
   ]
  },
  {
   "cell_type": "markdown",
   "id": "75c98984-1f88-4df1-b850-d2466de444a5",
   "metadata": {},
   "source": [
    "### Solve all the exercises, except 10.2.4, in chapter 10.2 in the book \"Matematik för yrkeshögskolan\". "
   ]
  },
  {
   "cell_type": "code",
   "execution_count": null,
   "id": "65371610-16e1-48b2-b7fb-65e49002608a",
   "metadata": {},
   "outputs": [],
   "source": [
    "\n",
    "# Övningsuppgift 10.2.1\n",
    "\n",
    "A = np.array ([[2, 1, -1],[1, -1, 1]]). reshape(2, 3)\n",
    "B = np.array ([[4, -2, 1],[2, -4, -2]]). reshape(2, 3)\n",
    "C = np.array ([[1, 2],[2, 1]]). reshape(2, 2)\n",
    "D = np.array ([[3, 4],[4, 3]]). reshape(2, 2)\n",
    "E = np.array ([[1],[2]]). reshape(2, 1)\n",
    "I = np.array ([[1, 0],[0, 1]]). reshape(2, 2)\n",
    "print(A)\n",
    "print()\n",
    "print(B)\n",
    "print()\n",
    "print(C)\n",
    "print()\n",
    "print(D)\n",
    "print()\n",
    "print(E)\n",
    "print()\n",
    "print(I)\n",
    "print()\n",
    "\n"
   ]
  },
  {
   "cell_type": "code",
   "execution_count": null,
   "id": "b8a346bb",
   "metadata": {},
   "outputs": [],
   "source": [
    "# a)\n",
    "print(2*A)\n"
   ]
  },
  {
   "cell_type": "code",
   "execution_count": null,
   "id": "36cf576c",
   "metadata": {},
   "outputs": [],
   "source": [
    "# b)\n",
    "if B.shape == A.shape:\n",
    "    print(B - 2*A)\n",
    "else:\n",
    "    print('not defined')\n",
    "    "
   ]
  },
  {
   "cell_type": "code",
   "execution_count": null,
   "id": "c0e20fc9",
   "metadata": {},
   "outputs": [],
   "source": [
    "# c)\n",
    "if C.shape == E.shape:\n",
    "    (print(3*C - 2*E))\n",
    "else:\n",
    "    print('not defined')\n"
   ]
  },
  {
   "cell_type": "code",
   "execution_count": null,
   "id": "4ca339b5",
   "metadata": {},
   "outputs": [],
   "source": [
    "# d)\n",
    "if D.shape == C.shape:\n",
    "    (print(2*D - 3*C))\n",
    "else:\n",
    "    print('not defined')\n"
   ]
  },
  {
   "cell_type": "code",
   "execution_count": null,
   "id": "1458e875",
   "metadata": {},
   "outputs": [],
   "source": [
    "# e)\n",
    "if D.transpose().shape == D.shape:\n",
    "    (print(D.transpose() + 2*D))\n",
    "else:\n",
    "    print('not defined')\n"
   ]
  },
  {
   "cell_type": "code",
   "execution_count": null,
   "id": "cd3385a0",
   "metadata": {},
   "outputs": [],
   "source": [
    "# f)\n",
    "if C.transpose().shape == D.transpose().shape:\n",
    "    (print (2*C.transpose() - 2*D.transpose()))\n",
    "else:\n",
    "    print('not defined')\n",
    "\n"
   ]
  },
  {
   "cell_type": "code",
   "execution_count": null,
   "id": "d64e4d2d",
   "metadata": {},
   "outputs": [],
   "source": [
    "# g)\n",
    "if A.transpose().shape == B.shape:\n",
    "    (print (A.transpose() - B))\n",
    "else:\n",
    "    print('not defined')\n",
    "\n"
   ]
  },
  {
   "cell_type": "code",
   "execution_count": null,
   "id": "3060eca4",
   "metadata": {},
   "outputs": [],
   "source": [
    "# h)\n",
    "if A.shape[1] == C.shape[0]:\n",
    "    (print (A @ C))\n",
    "else:\n",
    "    print('not defined')\n"
   ]
  },
  {
   "cell_type": "code",
   "execution_count": null,
   "id": "a3431538",
   "metadata": {},
   "outputs": [],
   "source": [
    "# i)\n",
    "if C.shape[1] == D.shape[0]:\n",
    "    (print (C @ D))\n",
    "else:\n",
    "    print('not defined')\n"
   ]
  },
  {
   "cell_type": "code",
   "execution_count": null,
   "id": "baadb8f5",
   "metadata": {},
   "outputs": [],
   "source": [
    "# j)\n",
    "if C.shape[1] == B.shape[0]:\n",
    "    (print (C @ B))\n",
    "else:\n",
    "    print('not defined')\n"
   ]
  },
  {
   "cell_type": "code",
   "execution_count": null,
   "id": "cc3b0206",
   "metadata": {},
   "outputs": [],
   "source": [
    "    \n",
    "# k)\n",
    "if C.shape[1] == I.shape[0]:\n",
    "    (print (C @ I))\n",
    "else:\n",
    "    print('not defined')\n"
   ]
  },
  {
   "cell_type": "code",
   "execution_count": null,
   "id": "9a767e44",
   "metadata": {},
   "outputs": [],
   "source": [
    "# l)\n",
    "if A.shape[1] == B.transpose().shape[0]:\n",
    "    (print (A @ B.transpose()))\n",
    "else:\n",
    "    print('not defined')\n"
   ]
  },
  {
   "cell_type": "code",
   "execution_count": null,
   "id": "52f741b5",
   "metadata": {},
   "outputs": [],
   "source": [
    "# Uppgift 10.2.2\n",
    "A = np.array ([[2, 3, 4],[5, 4, 1]]). reshape(2, 3)\n",
    "\n",
    "print('uppgift 10.2.2)')\n",
    "if A.shape[1] == A.transpose().shape[0]:\n",
    "    print(A @ A.transpose())\n",
    "else:\n",
    "    print('not defined')\n"
   ]
  },
  {
   "cell_type": "code",
   "execution_count": null,
   "id": "ab8c50f8",
   "metadata": {},
   "outputs": [],
   "source": [
    "# Uppgift 10.2.3\n",
    "A = np.array ( [[1, 2],[2, 4]]).reshape(2, 2)\n",
    "B = np.array ( [[2, 1],[1, 3]]).reshape(2, 2)\n",
    "C = np.array ( [[4, 3],[0, 2]]).reshape(2, 2)\n",
    "\n",
    "print('verifierar att AB = AC')\n",
    "print( A @ B == A @ C)\n",
    "print()\n",
    "print('kollar om B = C')\n",
    "print(B == C)"
   ]
  },
  {
   "cell_type": "markdown",
   "id": "6a4a524f",
   "metadata": {},
   "source": [
    "### Copies and Views\n",
    "Read the following link: https://numpy.org/doc/stable/user/basics.copies.html"
   ]
  },
  {
   "cell_type": "markdown",
   "id": "6cbbeaf7",
   "metadata": {},
   "source": [
    "**Basic indexing creates a view, How can you check if v1 and v2 is a view or copy? If you change the last element in v2 to 123, will the last element in v1 be changed? Why?**"
   ]
  },
  {
   "cell_type": "code",
   "execution_count": null,
   "id": "5b9ef4df",
   "metadata": {},
   "outputs": [],
   "source": [
    "v1 = np.arange(4)\n",
    "v2 = v1[-2:]\n",
    "print(v1)\n",
    "print(v2)"
   ]
  },
  {
   "cell_type": "code",
   "execution_count": null,
   "id": "e4e41c94",
   "metadata": {},
   "outputs": [],
   "source": [
    "# We can check whether v2 is a view or copy with .base. If its a copy, there is no base. If its a view, V1 is the base.\n",
    "print(v2.base == None)\n",
    "\n",
    "# Since base== None is false, we can conclude that v2 is a view.\n",
    "# we can also check if \n",
    "print(v2.base == v1)\n",
    "# which is true."
   ]
  },
  {
   "cell_type": "code",
   "execution_count": null,
   "id": "09658128",
   "metadata": {},
   "outputs": [],
   "source": [
    "# Yes, a change of the last element in v2 to 123 results in change in v1.\n",
    "v2[-1] = 123\n",
    "print(v2)\n",
    "print(v1)\n",
    "\n",
    "\n",
    "# since v2 is a view, its not its own data, its just a direction to v2. So when you change v2, you change v1.\n"
   ]
  },
  {
   "cell_type": "code",
   "execution_count": null,
   "id": "d2440489",
   "metadata": {},
   "outputs": [],
   "source": [
    "# The base attribute of a view returns the original array while it returns None for a copy.\n",
    "print(v1.base)\n",
    "print(v2.base)"
   ]
  },
  {
   "cell_type": "code",
   "execution_count": null,
   "id": "c8752807",
   "metadata": {},
   "outputs": [],
   "source": [
    "# The last element in v1 will be changed aswell since v2 is a view, meaning they share the same data buffer.\n",
    "v2[-1] = 123\n",
    "print(v1)\n",
    "print(v2)"
   ]
  }
 ],
 "metadata": {
  "kernelspec": {
   "display_name": "base",
   "language": "python",
   "name": "python3"
  },
  "language_info": {
   "codemirror_mode": {
    "name": "ipython",
    "version": 3
   },
   "file_extension": ".py",
   "mimetype": "text/x-python",
   "name": "python",
   "nbconvert_exporter": "python",
   "pygments_lexer": "ipython3",
   "version": "3.12.4"
  }
 },
 "nbformat": 4,
 "nbformat_minor": 5
}
